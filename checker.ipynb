{
 "cells": [
  {
   "cell_type": "code",
   "execution_count": 118,
   "metadata": {
    "scrolled": true
   },
   "outputs": [
    {
     "name": "stdout",
     "output_type": "stream",
     "text": [
      "შეიყვანეთ ფილტრის ფაილის path .csv: translated.csv\n",
      "შეიყვანეთ წიგნიის path/to/name.txt: /home/davit/Desktop/book_influence.py/text.txt\n",
      "This book has a 96.42857142857143% influence\n"
     ]
    }
   ],
   "source": [
    "#!/usr/bin/python\n",
    "# -*- coding: utf-8 -*-\n",
    "'''\n",
    "განსაზღვროს წიგნის გავლენიანობა\n",
    "• შეიქმნას გავლენიანი სიტყვების სია csv (ძლიერ ემოციური სიტყვები, ჟანრის სიტყვები) : +\n",
    "• ააგოს წინადადებების dataframe: +\n",
    "• შეამოწმოს რამდენი გავლენიანი სიტყვაა წინადადებაში: +\n",
    "• გავლენიანი სიტყვების ოდენობა გაყოს წინადადების ყველა სიტყვაზე(IPS) : +\n",
    "• აიჯამოს გავლენიანი წინადადებების ოდენობა\n",
    "• გავლენიანი წინადადებების ოდდენობა გაყოს ყველა წინადადების ოდენობაზე\n",
    "• თუ განაყოფი მეტია 50% დააბრუნოს True თუ არა False\n",
    "'''\n",
    "import  pandas as pd\n",
    "# შეიქმნას გავლენიანი სიტყვების სია(ძლიერ ემოციური სიტყვები)\n",
    "filter_name= input('შეიყვანეთ ფილტრის ფაილის path .csv: ')\n",
    "filt = pd.read_csv(filter_name)\n",
    "#-------------------------------------------------\n",
    "\n",
    "import re\n",
    "import  csv\n",
    "path = input('შეიყვანეთ წიგნიის path/to/name.txt: ')\n",
    "book =  open(path,'r', encoding='utf-8')\n",
    "\n",
    "text = ''.join(book.readlines())\n",
    "sentences = re.split('(?<!\\w\\.\\w.)(?<![A-Z][a-z]\\.)(?<=\\.|\\?)\\s', text)\n",
    "# print(type(sentences))\n",
    "data = []\n",
    "for i in sentences:    \n",
    "    data.append(f'{i}')\n",
    "import  csv\n",
    "\n",
    "# წინადადებების დატა\n",
    "sentences = pd.DataFrame()\n",
    "sentences['sentences'] = data\n",
    "IPS_base=[]\n",
    "word_IPS=[]\n",
    "for srow in sentences['sentences']:\n",
    "    filtered=0\n",
    "    for frow in filt['scienceFilter']:\n",
    "        words = srow.split()\n",
    "        for word in words:\n",
    "            if str(word) == str(frow):\n",
    "                filtered = filtered+1\n",
    "                \n",
    "            else:\n",
    "                pass\n",
    "    # count IPS (true sum) / (word sum)\n",
    "    if len(words) !=0 : \n",
    "        IPS =filtered/len(words)\n",
    "        if IPS !=0:\n",
    "            IPS_base.append(IPS)\n",
    "#create base\n",
    "base = pd.DataFrame()\n",
    "base['influence'] =  IPS_base \n",
    "#-------------------------------------------------\n",
    "# ამ კოეფიციენტების ჯამის კვადრატის გასაშუალოება ხდება\n",
    "# მერე  იყოფა ფესვი საერთო წინადადებების რაოდენობაზე\n",
    "import pandas as pd\n",
    "import numpy as np\n",
    "# root mean square\n",
    "rms = lambda d: d.sum ()\n",
    "index = sentences. index\n",
    "\n",
    "influence =  rms(base.influence)/len(sentences.index)*100\n",
    "if influence > 50:\n",
    "    print(f'This book has a {influence}% influence')\n",
    "else:\n",
    "    print(f'This book has a no influence')"
   ]
  },
  {
   "cell_type": "code",
   "execution_count": null,
   "metadata": {},
   "outputs": [],
   "source": [
    "/home/davit/Desktop/book_influence.py/text.txt"
   ]
  }
 ],
 "metadata": {
  "kernelspec": {
   "display_name": "Python 3",
   "language": "python",
   "name": "python3"
  },
  "language_info": {
   "codemirror_mode": {
    "name": "ipython",
    "version": 3
   },
   "file_extension": ".py",
   "mimetype": "text/x-python",
   "name": "python",
   "nbconvert_exporter": "python",
   "pygments_lexer": "ipython3",
   "version": "3.7.3"
  }
 },
 "nbformat": 4,
 "nbformat_minor": 2
}
